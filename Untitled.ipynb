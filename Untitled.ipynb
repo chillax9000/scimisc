{
 "cells": [
  {
   "cell_type": "code",
   "execution_count": 157,
   "metadata": {},
   "outputs": [],
   "source": [
    "import operator\n",
    "import collections\n",
    "import nntraining.resources.definition as nntrain_def\n",
    "import networkx\n",
    "import matplotlib.pyplot as plt\n",
    "%matplotlib widget"
   ]
  },
  {
   "cell_type": "code",
   "execution_count": 69,
   "metadata": {},
   "outputs": [
    {
     "name": "stdout",
     "output_type": "stream",
     "text": [
      "1763212\n",
      "361332\n"
     ]
    }
   ],
   "source": [
    "G = networkx.DiGraph()\n",
    "\n",
    "ALL_WORDS = nntrain_def.read_refined(nntrain_def.refined_path)\n",
    "ALL_NOUNS = dict(filter(lambda k_v: k_v[0][1] in (\"nom\", ), ALL_WORDS.items()))\n",
    "noun_list = set(map(operator.itemgetter(0), ALL_NOUNS))\n",
    "\n",
    "print(len(ALL_WORDS))\n",
    "print(len(ALL_NOUNS))"
   ]
  },
  {
   "cell_type": "code",
   "execution_count": 191,
   "metadata": {},
   "outputs": [],
   "source": [
    "def entries(nom, dic=ALL_NOUNS):\n",
    "    return dict(filter(lambda k_v: k_v[0][0] == nom, dic.items()))\n",
    "\n",
    "def _iterated_relations(relation_fn, G, nodes, n_iteration):\n",
    "    with_relations_added = set()\n",
    "    added = set(nodes) if any(isinstance(nodes, t) for t in [list, set]) else {nodes}\n",
    "    for i in range(n_iteration):\n",
    "        for n in list(added - with_relations_added):\n",
    "            added.update(relation_fn(G, n))\n",
    "            with_relations_added.add(n)\n",
    "    return added\n",
    "    \n",
    "def iterated_successors(G, nodes, n_iteration=1):\n",
    "    return _iterated_relations(lambda G, n: G.successors(n), G, nodes, n_iteration)\n",
    "\n",
    "def iterated_predecessors(G, nodes, n_iteration=1):\n",
    "    return _iterated_relations(lambda G, n: G.predecessors(n), G, nodes, n_iteration)\n",
    "\n",
    "def iterated_neighbors(G, nodes, n_iteration=1):\n",
    "    if isinstance(G, networkx.DiGraph):\n",
    "        G = G.to_undirected()\n",
    "    return _iterated_relations(networkx.neighbors, G, nodes, n_iteration)"
   ]
  },
  {
   "cell_type": "code",
   "execution_count": 125,
   "metadata": {},
   "outputs": [],
   "source": [
    "words = dict(list(ALL_NOUNS.items()))\n",
    "relations = []\n",
    "for (word, gram_type), definitions in words.items():\n",
    "    for definition in definitions:\n",
    "        for link in definition[\"links\"]:\n",
    "            if link in noun_list:\n",
    "                relations.append((word, link))\n",
    "G.add_nodes_from(map(operator.itemgetter(0), words.keys()))\n",
    "G.add_edges_from(relations)"
   ]
  },
  {
   "cell_type": "code",
   "execution_count": 204,
   "metadata": {},
   "outputs": [],
   "source": [
    "nodes = iterated_successors(G, [\"souris\"], 32)\n",
    "G_small = G.subgraph(nodes)"
   ]
  },
  {
   "cell_type": "code",
   "execution_count": 230,
   "metadata": {},
   "outputs": [
    {
     "name": "stdout",
     "output_type": "stream",
     "text": [
      "361332\n",
      "1\n",
      "6\n",
      "66\n",
      "707\n",
      "3528\n",
      "8396\n",
      "12461\n",
      "14810\n",
      "15903\n",
      "16407\n",
      "16646\n",
      "16772\n",
      "16817\n",
      "16840\n",
      "16846\n",
      "16851\n",
      "16855\n",
      "16857\n",
      "16859\n",
      "16860\n",
      "16861\n",
      "16862\n",
      "16863\n",
      "16863\n",
      "16863\n",
      "16863\n",
      "16863\n",
      "16863\n",
      "16863\n",
      "16863\n",
      "16863\n",
      "16863\n"
     ]
    }
   ],
   "source": [
    "print(len(G))\n",
    "for i in range(32):\n",
    "    print(len(iterated_successors(G, [\"français\"], i)))"
   ]
  },
  {
   "cell_type": "code",
   "execution_count": 111,
   "metadata": {},
   "outputs": [
    {
     "data": {
      "application/vnd.jupyter.widget-view+json": {
       "model_id": "",
       "version_major": 2,
       "version_minor": 0
      },
      "text/plain": [
       "Canvas(toolbar=Toolbar(toolitems=[('Home', 'Reset original view', 'home', 'home'), ('Back', 'Back to previous …"
      ]
     },
     "metadata": {},
     "output_type": "display_data"
    }
   ],
   "source": [
    "fig, ax = plt.subplots()\n",
    "networkx.draw(G_small, ax=ax, with_labels=True, font_size=8, node_size=0, font_weight=\"ultralight\", width=0.25)"
   ]
  },
  {
   "cell_type": "code",
   "execution_count": 114,
   "metadata": {},
   "outputs": [],
   "source": [
    "plt.close(\"all\")"
   ]
  },
  {
   "cell_type": "code",
   "execution_count": 202,
   "metadata": {},
   "outputs": [
    {
     "name": "stdout",
     "output_type": "stream",
     "text": [
      "molette -> éperon\n",
      "molette -> étoile\n",
      "molette -> cheval\n",
      "molette -> roue\n",
      "molette -> sorte\n",
      "molette -> roulette\n",
      "molette -> meule\n",
      "molette -> disque\n",
      "molette -> grès\n",
      "molette -> faïence\n",
      "molette -> plomb\n",
      "molette -> cône\n",
      "molette -> marbre\n",
      "molette -> sommet\n",
      "molette -> souris\n",
      "molette -> ordinateur\n",
      "molette -> maladie\n",
      "molette -> chevaux\n",
      "molette -> tumeur\n",
      "molette -> molle\n",
      "molette -> jambe\n",
      "molette -> cépage\n",
      "molette -> chevalement\n",
      "molette -> haut fourneau\n",
      "molette -> skip\n",
      "\n",
      "éperon -> molette\n",
      "vernis -> molette\n",
      "clé à molette -> molette\n",
      "broyon -> molette\n",
      "croisille -> molette\n",
      "moleté -> molette\n",
      "molettage -> molette\n",
      "faux-carré -> molette\n",
      "bâton de colle -> molette\n",
      "tricône -> molette\n"
     ]
    }
   ],
   "source": [
    "mot = \"molette\"\n",
    "for i in G.successors(mot): print(f\"{mot} -> {i}\")\n",
    "print()\n",
    "for i in G.predecessors(mot): print(f\"{i} -> {mot}\")"
   ]
  },
  {
   "cell_type": "code",
   "execution_count": 74,
   "metadata": {},
   "outputs": [
    {
     "data": {
      "text/plain": [
       "{('souris',\n",
       "  'nom'): [{'definition': \"Petit rongeur de la famille des muridés, du genre ''Mus'', en général la souris commune ''Mus musculus''.\",\n",
       "   'links': ['rongeur', 'muridé'],\n",
       "   'categories': ['zoologie|nocat=1']}, {'definition': 'Dispositif de commande tenu à la main, connecté à un ordinateur, et dont le déplacement sur une surface entraîne le déplacement d’un repère sur l’écran.',\n",
       "   'links': [],\n",
       "   'categories': ['info|fr']}, {'definition': 'Partie du gigot de mouton.',\n",
       "   'links': ['gigot', 'mouton'],\n",
       "   'categories': ['boucherie|fr']}, {'definition': 'Jeune fille ou femme.',\n",
       "   'links': [],\n",
       "   'categories': ['familier|fr']}, {'definition': 'Terme affectueux utilisé pour s’adresser à un petit enfant.',\n",
       "   'links': [],\n",
       "   'categories': ['familier|fr']}, {'definition': 'Tampon hygiénique.',\n",
       "   'links': ['tampon hygiénique'],\n",
       "   'categories': ['familier|fr']}, {'definition': 'Phalène de l’euphorbe (papillon).',\n",
       "   'links': ['phalène de l’euphorbe'],\n",
       "   'categories': ['zoologie|nocat=1']}, {'definition': 'Cartilage du naseau des chevaux.',\n",
       "   'links': ['cartilage', 'naseau', 'cheval'],\n",
       "   'categories': ['vétérinaire|fr']}, {'definition': 'Sorte de bonnet porté par les femmes.',\n",
       "   'links': [],\n",
       "   'categories': ['vêtements|fr']}, {'definition': 'Nœud en nonpareille que les femmes portaient au XVIII siècle.',\n",
       "   'links': ['nœud', 'nonpareille'],\n",
       "   'categories': ['e|ème']}, {'definition': 'Sourire.',\n",
       "   'links': ['sourire'],\n",
       "   'categories': ['archaïque|fr']}]}"
      ]
     },
     "execution_count": 74,
     "metadata": {},
     "output_type": "execute_result"
    }
   ],
   "source": [
    "entries(\"souris\")"
   ]
  },
  {
   "cell_type": "code",
   "execution_count": 205,
   "metadata": {},
   "outputs": [
    {
     "data": {
      "text/plain": [
       "Counter({16863: 1})"
      ]
     },
     "execution_count": 205,
     "metadata": {},
     "output_type": "execute_result"
    }
   ],
   "source": [
    "collections.Counter(map(len, networkx.connected_components(G.to_undirected())))"
   ]
  },
  {
   "cell_type": "code",
   "execution_count": 207,
   "metadata": {},
   "outputs": [
    {
     "data": {
      "text/plain": [
       "Counter({1: 1475, 2: 11, 4: 1, 15362: 1})"
      ]
     },
     "execution_count": 207,
     "metadata": {},
     "output_type": "execute_result"
    }
   ],
   "source": [
    "collections.Counter(map(len, networkx.strongly_connected_components(G_small)))"
   ]
  },
  {
   "cell_type": "code",
   "execution_count": 222,
   "metadata": {},
   "outputs": [
    {
     "name": "stdout",
     "output_type": "stream",
     "text": [
      "ligature 16860\n",
      "harmonica 16859\n",
      "cromorne 16861\n",
      "régale 16862\n",
      "sans-gêne 16860\n",
      "cuivrette 16859\n",
      "zourna 16857\n",
      "sarrusophone 16859\n",
      "cialamella 16859\n",
      "cor de basset 16858\n",
      "clarinette de basset 16857\n",
      "suona 16858\n"
     ]
    }
   ],
   "source": [
    "def boom():\n",
    "    c = 0\n",
    "    for node in G_small:\n",
    "        for n in filter(lambda n: n not in G_small, G.predecessors(node)):\n",
    "            print(n, len(iterated_successors(G, n, 16)))\n",
    "            if c > 10:\n",
    "                return\n",
    "            c += 1\n",
    "boom()"
   ]
  },
  {
   "cell_type": "code",
   "execution_count": 254,
   "metadata": {},
   "outputs": [
    {
     "name": "stdout",
     "output_type": "stream",
     "text": [
      "[('français', 42529), ('action', 3554), ('habitant', 3069), ('personne', 2034), ('espèce', 1668), ('québécois', 1556), ('partie', 1494), ('oiseau', 1467), ('langue', 1407), ('substance', 1263)]\n"
     ]
    },
    {
     "data": {
      "application/vnd.jupyter.widget-view+json": {
       "model_id": "345e68aa337c4091b9d874c393449d8b",
       "version_major": 2,
       "version_minor": 0
      },
      "text/plain": [
       "Canvas(toolbar=Toolbar(toolitems=[('Home', 'Reset original view', 'home', 'home'), ('Back', 'Back to previous …"
      ]
     },
     "metadata": {},
     "output_type": "display_data"
    },
    {
     "data": {
      "text/plain": [
       "(array([1.05452e+05, 1.41996e+05, 3.21100e+04, 2.05760e+04, 1.47870e+04,\n",
       "        1.03860e+04, 7.12700e+03, 5.22500e+03, 3.86800e+03, 2.88600e+03,\n",
       "        2.22200e+03, 1.66600e+03, 1.37300e+03, 1.14400e+03, 9.23000e+02,\n",
       "        7.65000e+02, 6.14000e+02, 5.47000e+02, 4.78000e+02, 4.41000e+02,\n",
       "        3.80000e+02, 3.25000e+02, 2.95000e+02, 2.74000e+02, 2.63000e+02,\n",
       "        2.19000e+02, 2.33000e+02, 2.09000e+02, 1.75000e+02, 1.50000e+02,\n",
       "        1.50000e+02, 1.33000e+02, 1.30000e+02, 1.19000e+02, 1.07000e+02,\n",
       "        1.19000e+02, 1.12000e+02, 8.90000e+01, 8.70000e+01, 1.74000e+02]),\n",
       " array([ 0.,  1.,  2.,  3.,  4.,  5.,  6.,  7.,  8.,  9., 10., 11., 12.,\n",
       "        13., 14., 15., 16., 17., 18., 19., 20., 21., 22., 23., 24., 25.,\n",
       "        26., 27., 28., 29., 30., 31., 32., 33., 34., 35., 36., 37., 38.,\n",
       "        39., 40.]),\n",
       " <a list of 40 Patch objects>)"
      ]
     },
     "execution_count": 254,
     "metadata": {},
     "output_type": "execute_result"
    }
   ],
   "source": [
    "degrees = G.degree()\n",
    "print(list(sorted(degrees, key=operator.itemgetter(1), reverse=True))[:10])\n",
    "\n",
    "fig, ax = plt.subplots()\n",
    "cts = list(map(operator.itemgetter(1), list(degrees)))\n",
    "plt.hist(cts, bins=40, range=(0, 40))"
   ]
  }
 ],
 "metadata": {
  "kernelspec": {
   "display_name": "Python 3",
   "language": "python",
   "name": "python3"
  },
  "language_info": {
   "codemirror_mode": {
    "name": "ipython",
    "version": 3
   },
   "file_extension": ".py",
   "mimetype": "text/x-python",
   "name": "python",
   "nbconvert_exporter": "python",
   "pygments_lexer": "ipython3",
   "version": "3.7.3"
  }
 },
 "nbformat": 4,
 "nbformat_minor": 4
}
